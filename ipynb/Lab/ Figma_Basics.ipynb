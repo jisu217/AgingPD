{
 "cells": [
  {
   "cell_type": "code",
   "execution_count": null,
   "id": "74211cb1-4f57-416a-a938-e526a245e613",
   "metadata": {},
   "outputs": [],
   "source": [
    "- **피그마란?**\n",
    "\n",
    "섹션: 여러 화면에 대한 프레임을 그루퍼 할 수 있는 기능\n",
    "\n",
    "프레임: UI 디자인을 위한 기본적인 틀\n",
    "\n",
    "레이어: 생성 된 모든 요소의 층 (앞, 뒤 표현 가능),\n",
    "\n",
    "페이지: 피그마 파일 내에서 가장 큰 작업 단위의 공간\n",
    "\n",
    "[ 프로젝트의 단계(리서치, 와이어프레임, UI 디자인)나 플랫폼(Web, iOS, Android)별로 작업 분리 가능 ]\n",
    "\n",
    "- **레이아웃 그리드 설정하는 방법**\n",
    "\n",
    "구성 요소: Columm, Gutter, Margin\n",
    "\n",
    "Type: Grid, Columns, Rows\n",
    "\n",
    "- **Dew mode 이해하기**\n",
    "\n",
    "핸드오프: 완성된 디자인을 개발자에게 넘기는 과정\n",
    "\n",
    "Dew mode: 개발자들이 디자인을 손쉽게 구현할 수 있도록 설계된 기능\n",
    "\n",
    "+ CSS, Swift, XML(Android) 등의 코드 스니펫을 제공\n",
    "\n",
    "- **Auto Layout 사용법**\n",
    "\n",
    "Auto Layout - 자동으로 정렬하고 배치하는 기능 + Constraints - 요소들의 크기와 위치를 제어하는 기능\n",
    "\n",
    "- **컴포넌트 사용법**\n",
    "\n",
    "컴포넌트: 재사용 가능한 각각의 독립된 모듈\n",
    "\n",
    "> 디자인 요소들을 재사용 가능한 모듈로 만들어서 일관성 있는 디자인 시스템을 구축하는 데 사용\n",
    "\n",
    "메인 컴포넌트 + 인스턴스\n",
    "\n",
    "**메인 컴포넌트:** 원본 디자인, 원본을 수정하면 모든 복사본(인스턴스)에 변경 사항이 일괄 적용\n",
    "\n",
    "**인스턴스:** 메인 컴포넌트의 복사본, 인스턴스는 색상, 텍스트 등 일부 속성을 개별적으로 수정할 수 있으면서도 원본과의 연결은 유지\n",
    "\n",
    "- **프로퍼티 활용하기**\n",
    "\n",
    "프로퍼티: 컴포넌트를 더욱 유연하고 다재다능하게 만들어주는 설정 기능"
   ]
  }
 ],
 "metadata": {
  "kernelspec": {
   "display_name": "Python 3 (ipykernel)",
   "language": "python",
   "name": "python3"
  },
  "language_info": {
   "codemirror_mode": {
    "name": "ipython",
    "version": 3
   },
   "file_extension": ".py",
   "mimetype": "text/x-python",
   "name": "python",
   "nbconvert_exporter": "python",
   "pygments_lexer": "ipython3",
   "version": "3.11.7"
  }
 },
 "nbformat": 4,
 "nbformat_minor": 5
}
