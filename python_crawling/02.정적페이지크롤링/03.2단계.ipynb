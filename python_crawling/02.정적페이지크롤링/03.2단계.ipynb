{
 "cells": [
  {
   "cell_type": "code",
   "execution_count": null,
   "id": "3e1ab89e",
   "metadata": {},
   "outputs": [],
   "source": [
    "import requests\n",
    "from bs4 import BeautifulSoup\n",
    "\n",
    "response = requests get (\"https://startcoding-pythonanywhere.com/basic\")\n",
    "html = response.text\n",
    "soup = BeautifulSoup(html,'html.parser')\n",
    "items = soup.select(\".product\")\n",
    "for item in items :"
   ]
  },
  {
   "cell_type": "code",
   "execution_count": null,
   "id": "5e05485a",
   "metadata": {},
   "outputs": [],
   "source": [
    "category = soup.select_one(\".product-category\").text\n",
    "Rame = soup.select_one(\".product-name\").text \n",
    "link = soup.select_one(\".product-name ›•a\").attrs[ 'href']\n",
    "price = soup.select _one(\".product-price\").text. strip().replace(',', '').replace('원', \"\")\n",
    "print(category, name, link, price)"
   ]
  }
 ],
 "metadata": {
  "language_info": {
   "name": "python"
  }
 },
 "nbformat": 4,
 "nbformat_minor": 5
}
